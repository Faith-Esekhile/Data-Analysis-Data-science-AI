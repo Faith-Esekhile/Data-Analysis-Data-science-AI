{
 "cells": [
  {
   "cell_type": "code",
   "execution_count": 1,
   "id": "d0386dbe",
   "metadata": {},
   "outputs": [],
   "source": [
    "# Import necessary libraries\n",
    "import pandas as pd\n",
    "import numpy as np\n",
    "from sklearn.neighbors import NearestNeighbors"
   ]
  },
  {
   "cell_type": "code",
   "execution_count": 2,
   "id": "0c7a028d",
   "metadata": {},
   "outputs": [],
   "source": [
    "# Load the data\n",
    "movies = pd.read_csv('movies.csv')\n",
    "ratings = pd.read_csv('ratings.csv')"
   ]
  },
  {
   "cell_type": "code",
   "execution_count": 3,
   "id": "79449329",
   "metadata": {},
   "outputs": [],
   "source": [
    "# Preprocess the data\n",
    "movies.drop(['genres'], axis=1, inplace=True)\n",
    "ratings.drop(['timestamp'], axis=1, inplace=True)\n",
    "ratings.dropna(inplace=True)"
   ]
  },
  {
   "cell_type": "code",
   "execution_count": 4,
   "id": "ad9f544d",
   "metadata": {},
   "outputs": [],
   "source": [
    "# Create a pivot table for the ratings data\n",
    "user_movie_matrix = ratings.pivot_table(index='userId', columns='movieId', values='rating')"
   ]
  },
  {
   "cell_type": "code",
   "execution_count": 5,
   "id": "1fa4b258",
   "metadata": {},
   "outputs": [],
   "source": [
    "# Fill missing values with 0\n",
    "user_movie_matrix.fillna(0, inplace=True)"
   ]
  },
  {
   "cell_type": "code",
   "execution_count": 6,
   "id": "67404702",
   "metadata": {},
   "outputs": [
    {
     "data": {
      "text/plain": [
       "NearestNeighbors(algorithm='brute', metric='cosine')"
      ]
     },
     "execution_count": 6,
     "metadata": {},
     "output_type": "execute_result"
    }
   ],
   "source": [
    "# Perform K-nearest neighbor analysis\n",
    "model_knn = NearestNeighbors(metric='cosine', algorithm='brute')\n",
    "model_knn.fit(user_movie_matrix)"
   ]
  },
  {
   "cell_type": "code",
   "execution_count": 7,
   "id": "04c557b5",
   "metadata": {},
   "outputs": [],
   "source": [
    "# Define a function to recommend movies\n",
    "def recommend_movies(movie_title, n_recommendations):\n",
    "    movie_idx = np.where(movies['title'] == movie_title)[0][0]\n",
    "    distances, indices = model_knn.kneighbors(user_movie_matrix.iloc[movie_idx, :].values.reshape(1, -1), n_neighbors=n_recommendations+1)\n",
    "    recommended_movies = []\n",
    "    for i in range(1, len(distances.flatten())):\n",
    "        recommended_movies.append(movies.loc[user_movie_matrix.index[indices.flatten()[i]]]['title'])\n",
    "    return recommended_movies"
   ]
  },
  {
   "cell_type": "code",
   "execution_count": 8,
   "id": "3687c5a8",
   "metadata": {},
   "outputs": [
    {
     "name": "stdout",
     "output_type": "stream",
     "text": [
      "Three Colors: Red (Trois couleurs: Rouge) (1994)\n",
      "Flintstones, The (1994)\n",
      "Blue Chips (1994)\n",
      "Two if by Sea (1996)\n",
      "Unforgettable (1996)\n",
      "Simple Twist of Fate, A (1994)\n",
      "Restoration (1995)\n",
      "Tales from the Hood (1995)\n",
      "Rising Sun (1993)\n",
      "When Night Is Falling (1995)\n"
     ]
    }
   ],
   "source": [
    "# Test the recommendation system\n",
    "recommendations = recommend_movies('Toy Story (1995)', 10)\n",
    "for x in recommendations:\n",
    "    print(x)"
   ]
  },
  {
   "cell_type": "code",
   "execution_count": null,
   "id": "c5ec8f7e",
   "metadata": {},
   "outputs": [],
   "source": []
  }
 ],
 "metadata": {
  "kernelspec": {
   "display_name": "Python 3 (ipykernel)",
   "language": "python",
   "name": "python3"
  },
  "language_info": {
   "codemirror_mode": {
    "name": "ipython",
    "version": 3
   },
   "file_extension": ".py",
   "mimetype": "text/x-python",
   "name": "python",
   "nbconvert_exporter": "python",
   "pygments_lexer": "ipython3",
   "version": "3.9.13"
  }
 },
 "nbformat": 4,
 "nbformat_minor": 5
}
